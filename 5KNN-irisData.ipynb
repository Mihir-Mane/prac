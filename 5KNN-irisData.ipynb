{
 "cells": [
  {
   "cell_type": "code",
   "execution_count": 2,
   "id": "f410987e",
   "metadata": {},
   "outputs": [
    {
     "data": {
      "text/html": [
       "<div>\n",
       "<style scoped>\n",
       "    .dataframe tbody tr th:only-of-type {\n",
       "        vertical-align: middle;\n",
       "    }\n",
       "\n",
       "    .dataframe tbody tr th {\n",
       "        vertical-align: top;\n",
       "    }\n",
       "\n",
       "    .dataframe thead th {\n",
       "        text-align: right;\n",
       "    }\n",
       "</style>\n",
       "<table border=\"1\" class=\"dataframe\">\n",
       "  <thead>\n",
       "    <tr style=\"text-align: right;\">\n",
       "      <th></th>\n",
       "      <th>sepal-length</th>\n",
       "      <th>sepal-width</th>\n",
       "      <th>petal-length</th>\n",
       "      <th>petal-width</th>\n",
       "      <th>Class</th>\n",
       "    </tr>\n",
       "  </thead>\n",
       "  <tbody>\n",
       "    <tr>\n",
       "      <th>0</th>\n",
       "      <td>5.1</td>\n",
       "      <td>3.5</td>\n",
       "      <td>1.4</td>\n",
       "      <td>0.2</td>\n",
       "      <td>Iris-setosa</td>\n",
       "    </tr>\n",
       "    <tr>\n",
       "      <th>1</th>\n",
       "      <td>4.9</td>\n",
       "      <td>3.0</td>\n",
       "      <td>1.4</td>\n",
       "      <td>0.2</td>\n",
       "      <td>Iris-setosa</td>\n",
       "    </tr>\n",
       "    <tr>\n",
       "      <th>2</th>\n",
       "      <td>4.7</td>\n",
       "      <td>3.2</td>\n",
       "      <td>1.3</td>\n",
       "      <td>0.2</td>\n",
       "      <td>Iris-setosa</td>\n",
       "    </tr>\n",
       "    <tr>\n",
       "      <th>3</th>\n",
       "      <td>4.6</td>\n",
       "      <td>3.1</td>\n",
       "      <td>1.5</td>\n",
       "      <td>0.2</td>\n",
       "      <td>Iris-setosa</td>\n",
       "    </tr>\n",
       "    <tr>\n",
       "      <th>4</th>\n",
       "      <td>5.0</td>\n",
       "      <td>3.6</td>\n",
       "      <td>1.4</td>\n",
       "      <td>0.2</td>\n",
       "      <td>Iris-setosa</td>\n",
       "    </tr>\n",
       "  </tbody>\n",
       "</table>\n",
       "</div>"
      ],
      "text/plain": [
       "   sepal-length  sepal-width  petal-length  petal-width        Class\n",
       "0           5.1          3.5           1.4          0.2  Iris-setosa\n",
       "1           4.9          3.0           1.4          0.2  Iris-setosa\n",
       "2           4.7          3.2           1.3          0.2  Iris-setosa\n",
       "3           4.6          3.1           1.5          0.2  Iris-setosa\n",
       "4           5.0          3.6           1.4          0.2  Iris-setosa"
      ]
     },
     "execution_count": 2,
     "metadata": {},
     "output_type": "execute_result"
    }
   ],
   "source": [
    "import numpy as np\n",
    "import matplotlib.pyplot as plt\n",
    "import pandas as pd\n",
    "\n",
    "url = \"https://archive.ics.uci.edu/ml/machine-learning-databases/iris/iris.data\"\n",
    "names = ['sepal-length', 'sepal-width', 'petal-length', 'petal-width', 'Class']\n",
    "dataset = pd.read_csv(url, names=names)\n",
    "dataset.head()"
   ]
  },
  {
   "cell_type": "code",
   "execution_count": 3,
   "id": "db446904",
   "metadata": {},
   "outputs": [
    {
     "name": "stdout",
     "output_type": "stream",
     "text": [
      "<class 'pandas.core.frame.DataFrame'>\n",
      "RangeIndex: 150 entries, 0 to 149\n",
      "Data columns (total 5 columns):\n",
      " #   Column        Non-Null Count  Dtype  \n",
      "---  ------        --------------  -----  \n",
      " 0   sepal-length  150 non-null    float64\n",
      " 1   sepal-width   150 non-null    float64\n",
      " 2   petal-length  150 non-null    float64\n",
      " 3   petal-width   150 non-null    float64\n",
      " 4   Class         150 non-null    object \n",
      "dtypes: float64(4), object(1)\n",
      "memory usage: 6.0+ KB\n"
     ]
    }
   ],
   "source": [
    "dataset.info()"
   ]
  },
  {
   "cell_type": "code",
   "execution_count": 4,
   "id": "2d4f650a",
   "metadata": {},
   "outputs": [
    {
     "data": {
      "text/html": [
       "<div>\n",
       "<style scoped>\n",
       "    .dataframe tbody tr th:only-of-type {\n",
       "        vertical-align: middle;\n",
       "    }\n",
       "\n",
       "    .dataframe tbody tr th {\n",
       "        vertical-align: top;\n",
       "    }\n",
       "\n",
       "    .dataframe thead th {\n",
       "        text-align: right;\n",
       "    }\n",
       "</style>\n",
       "<table border=\"1\" class=\"dataframe\">\n",
       "  <thead>\n",
       "    <tr style=\"text-align: right;\">\n",
       "      <th></th>\n",
       "      <th>sepal-length</th>\n",
       "      <th>sepal-width</th>\n",
       "      <th>petal-length</th>\n",
       "      <th>petal-width</th>\n",
       "    </tr>\n",
       "  </thead>\n",
       "  <tbody>\n",
       "    <tr>\n",
       "      <th>count</th>\n",
       "      <td>150.000000</td>\n",
       "      <td>150.000000</td>\n",
       "      <td>150.000000</td>\n",
       "      <td>150.000000</td>\n",
       "    </tr>\n",
       "    <tr>\n",
       "      <th>mean</th>\n",
       "      <td>5.843333</td>\n",
       "      <td>3.054000</td>\n",
       "      <td>3.758667</td>\n",
       "      <td>1.198667</td>\n",
       "    </tr>\n",
       "    <tr>\n",
       "      <th>std</th>\n",
       "      <td>0.828066</td>\n",
       "      <td>0.433594</td>\n",
       "      <td>1.764420</td>\n",
       "      <td>0.763161</td>\n",
       "    </tr>\n",
       "    <tr>\n",
       "      <th>min</th>\n",
       "      <td>4.300000</td>\n",
       "      <td>2.000000</td>\n",
       "      <td>1.000000</td>\n",
       "      <td>0.100000</td>\n",
       "    </tr>\n",
       "    <tr>\n",
       "      <th>25%</th>\n",
       "      <td>5.100000</td>\n",
       "      <td>2.800000</td>\n",
       "      <td>1.600000</td>\n",
       "      <td>0.300000</td>\n",
       "    </tr>\n",
       "    <tr>\n",
       "      <th>50%</th>\n",
       "      <td>5.800000</td>\n",
       "      <td>3.000000</td>\n",
       "      <td>4.350000</td>\n",
       "      <td>1.300000</td>\n",
       "    </tr>\n",
       "    <tr>\n",
       "      <th>75%</th>\n",
       "      <td>6.400000</td>\n",
       "      <td>3.300000</td>\n",
       "      <td>5.100000</td>\n",
       "      <td>1.800000</td>\n",
       "    </tr>\n",
       "    <tr>\n",
       "      <th>max</th>\n",
       "      <td>7.900000</td>\n",
       "      <td>4.400000</td>\n",
       "      <td>6.900000</td>\n",
       "      <td>2.500000</td>\n",
       "    </tr>\n",
       "  </tbody>\n",
       "</table>\n",
       "</div>"
      ],
      "text/plain": [
       "       sepal-length  sepal-width  petal-length  petal-width\n",
       "count    150.000000   150.000000    150.000000   150.000000\n",
       "mean       5.843333     3.054000      3.758667     1.198667\n",
       "std        0.828066     0.433594      1.764420     0.763161\n",
       "min        4.300000     2.000000      1.000000     0.100000\n",
       "25%        5.100000     2.800000      1.600000     0.300000\n",
       "50%        5.800000     3.000000      4.350000     1.300000\n",
       "75%        6.400000     3.300000      5.100000     1.800000\n",
       "max        7.900000     4.400000      6.900000     2.500000"
      ]
     },
     "execution_count": 4,
     "metadata": {},
     "output_type": "execute_result"
    }
   ],
   "source": [
    "dataset.describe()"
   ]
  },
  {
   "cell_type": "code",
   "execution_count": 5,
   "id": "1bf3407e",
   "metadata": {},
   "outputs": [
    {
     "data": {
      "text/plain": [
       "sepal-length    0\n",
       "sepal-width     0\n",
       "petal-length    0\n",
       "petal-width     0\n",
       "Class           0\n",
       "dtype: int64"
      ]
     },
     "execution_count": 5,
     "metadata": {},
     "output_type": "execute_result"
    }
   ],
   "source": [
    "dataset.isnull().sum()"
   ]
  },
  {
   "cell_type": "code",
   "execution_count": 6,
   "id": "614e0a41",
   "metadata": {},
   "outputs": [],
   "source": [
    "X = dataset.iloc[:, :-1].values\n",
    "y = dataset.iloc[:, 4].values"
   ]
  },
  {
   "cell_type": "code",
   "execution_count": 7,
   "id": "749ef9f5",
   "metadata": {},
   "outputs": [
    {
     "data": {
      "text/plain": [
       "array([[-1.69371165, -0.12501414, -1.34626092, -1.26585523],\n",
       "       [-0.85484503,  1.66623328, -1.00579451, -0.99794936],\n",
       "       [ 0.94272629, -0.34892007,  0.52630432,  0.20762705],\n",
       "       [ 0.10385968, -0.12501414,  0.29932672,  0.47553292],\n",
       "       [ 0.22369776, -1.91626156,  0.75328192,  0.47553292],\n",
       "       [-1.09452121,  0.09889178, -1.23277211, -1.39980816],\n",
       "       [-0.97468312,  1.21842142, -1.28951651, -1.26585523],\n",
       "       [ 0.34353585, -0.12501414,  0.69653752,  0.87739172],\n",
       "       [-0.1358165 ,  3.00966884, -1.23277211, -0.99794936],\n",
       "       [-0.97468312,  0.32279771, -1.40300532, -1.26585523],\n",
       "       [ 1.18240247, -0.12501414,  1.03700393,  1.27925052],\n",
       "       [-0.01597841,  2.11404513, -1.40300532, -1.26585523],\n",
       "       [-0.73500694,  2.33795106, -1.23277211, -1.39980816],\n",
       "       [ 1.901431  , -0.572826  ,  1.37747034,  1.01134465],\n",
       "       [-0.01597841, -0.79673193,  0.81002633,  1.01134465],\n",
       "       [ 2.26094527, -1.02063785,  1.83142555,  1.54715639],\n",
       "       [-0.1358165 , -1.24454378,  0.75328192,  1.14529759],\n",
       "       [-1.45403547,  0.77060957, -1.28951651, -1.13190229],\n",
       "       [ 2.26094527, -0.572826  ,  1.71793674,  1.14529759],\n",
       "       [-1.33419738,  0.32279771, -1.34626092, -1.26585523],\n",
       "       [-0.73500694, -0.79673193,  0.12909351,  0.34157998],\n",
       "       [ 0.46337394, -0.34892007,  0.35607112,  0.20762705],\n",
       "       [ 0.70305012, -0.572826  ,  1.09374833,  1.41320346],\n",
       "       [-1.57387356, -1.69235564, -1.34626092, -1.13190229],\n",
       "       [ 1.78159291, -0.34892007,  1.49095914,  0.87739172],\n",
       "       [ 0.70305012,  0.09889178,  1.03700393,  0.87739172],\n",
       "       [-0.73500694,  0.99451549, -1.23277211, -1.26585523],\n",
       "       [-0.1358165 , -1.02063785, -0.09788409, -0.19423175],\n",
       "       [ 0.46337394, -1.91626156,  0.46955992,  0.47553292],\n",
       "       [-0.97468312, -1.69235564, -0.21137289, -0.19423175],\n",
       "       [-0.49533076,  1.8901392 , -1.34626092, -0.99794936],\n",
       "       [-1.21435929, -0.12501414, -1.28951651, -1.39980816],\n",
       "       [ 0.58321203, -1.24454378,  0.75328192,  1.01134465],\n",
       "       [-1.09452121,  0.09889178, -1.23277211, -1.39980816],\n",
       "       [-1.21435929,  0.77060957, -1.17602771, -1.26585523],\n",
       "       [ 0.82288821, -0.12501414,  1.20723713,  1.41320346],\n",
       "       [ 0.70305012, -0.572826  ,  1.09374833,  1.27925052],\n",
       "       [-1.09452121, -1.46844971, -0.21137289, -0.19423175],\n",
       "       [-0.37549268,  2.56185699, -1.28951651, -1.26585523],\n",
       "       [ 1.18240247,  0.32279771,  1.26398153,  1.54715639],\n",
       "       [-0.49533076, -0.12501414,  0.46955992,  0.47553292],\n",
       "       [ 0.82288821, -0.12501414,  0.86677073,  1.14529759],\n",
       "       [-1.69371165,  0.32279771, -1.34626092, -1.26585523],\n",
       "       [ 1.66175482, -0.12501414,  1.20723713,  0.60948585],\n",
       "       [ 0.22369776, -0.12501414,  0.63979312,  0.87739172],\n",
       "       [ 0.58321203, -1.24454378,  0.69653752,  0.47553292],\n",
       "       [-0.97468312, -0.12501414, -1.17602771, -1.26585523],\n",
       "       [-1.33419738,  0.32279771, -1.17602771, -1.26585523],\n",
       "       [-0.97468312,  0.77060957, -1.17602771, -0.99794936],\n",
       "       [-0.01597841, -0.79673193,  0.81002633,  1.01134465],\n",
       "       [ 0.70305012, -0.79673193,  0.92351513,  1.01134465],\n",
       "       [-0.1358165 , -0.572826  ,  0.46955992,  0.20762705],\n",
       "       [ 0.34353585, -0.572826  ,  0.18583791,  0.20762705],\n",
       "       [-0.1358165 ,  1.66623328, -1.11928331, -1.13190229],\n",
       "       [ 0.70305012,  0.32279771,  0.46955992,  0.47553292],\n",
       "       [-1.45403547,  1.21842142, -1.51649412, -1.26585523],\n",
       "       [ 0.10385968, -0.12501414,  0.81002633,  0.87739172],\n",
       "       [ 0.22369776, -0.79673193,  0.81002633,  0.60948585],\n",
       "       [ 0.70305012,  0.32279771,  0.92351513,  1.54715639],\n",
       "       [ 2.14110718, -0.12501414,  1.66119234,  1.27925052],\n",
       "       [ 0.58321203, -1.69235564,  0.41281552,  0.20762705],\n",
       "       [ 0.34353585, -0.12501414,  0.52630432,  0.34157998],\n",
       "       [ 0.34353585, -0.572826  ,  0.58304872,  0.07367411],\n",
       "       [-0.37549268,  0.99451549, -1.34626092, -1.26585523],\n",
       "       [-0.37549268, -1.24454378,  0.18583791,  0.20762705],\n",
       "       [ 1.06256438, -0.12501414,  0.75328192,  0.74343879],\n",
       "       [ 2.26094527,  1.66623328,  1.71793674,  1.41320346],\n",
       "       [-1.09452121, -0.12501414, -1.28951651, -1.26585523],\n",
       "       [-1.69371165, -0.34892007, -1.28951651, -1.26585523],\n",
       "       [-0.25565459, -0.12501414,  0.24258231,  0.20762705],\n",
       "       [ 1.06256438, -0.12501414,  0.86677073,  1.54715639],\n",
       "       [ 1.06256438,  0.09889178,  0.41281552,  0.34157998],\n",
       "       [ 0.22369776, -0.34892007,  0.46955992,  0.47553292],\n",
       "       [-0.25565459, -0.34892007, -0.04113969,  0.20762705],\n",
       "       [-1.81354974, -0.12501414, -1.45974972, -1.39980816],\n",
       "       [-0.85484503, -1.24454378, -0.3816061 , -0.06027882],\n",
       "       [-0.85484503,  1.44232735, -1.23277211, -0.99794936],\n",
       "       [-0.1358165 , -0.34892007,  0.29932672,  0.20762705],\n",
       "       [-0.1358165 , -0.572826  ,  0.24258231,  0.20762705],\n",
       "       [-0.97468312,  0.54670364, -1.28951651, -1.26585523],\n",
       "       [-0.25565459, -0.79673193,  0.29932672,  0.20762705],\n",
       "       [ 1.18240247, -0.572826  ,  0.63979312,  0.34157998],\n",
       "       [ 0.10385968,  0.32279771,  0.63979312,  0.87739172],\n",
       "       [-1.45403547,  0.09889178, -1.23277211, -1.26585523],\n",
       "       [-0.01597841, -1.02063785,  0.18583791,  0.07367411],\n",
       "       [ 1.66175482,  1.21842142,  1.37747034,  1.81506226],\n",
       "       [ 0.58321203, -0.34892007,  1.09374833,  0.87739172],\n",
       "       [ 0.22369776, -1.91626156,  0.18583791, -0.19423175],\n",
       "       [-0.37549268, -1.46844971,  0.07234911, -0.06027882],\n",
       "       [ 0.58321203, -0.572826  ,  0.81002633,  0.47553292],\n",
       "       [-1.09452121,  0.09889178, -1.23277211, -1.39980816],\n",
       "       [ 0.34353585, -0.34892007,  0.58304872,  0.34157998],\n",
       "       [-0.25565459, -0.12501414,  0.46955992,  0.47553292],\n",
       "       [-0.73500694,  0.77060957, -1.28951651, -1.26585523],\n",
       "       [-0.49533076,  0.77060957, -1.11928331, -1.26585523],\n",
       "       [ 0.82288821,  0.32279771,  0.81002633,  1.14529759],\n",
       "       [ 0.46337394,  0.77060957,  0.98025953,  1.54715639],\n",
       "       [ 2.50062144,  1.66623328,  1.54770354,  1.14529759],\n",
       "       [-1.21435929,  0.77060957, -1.00579451, -1.26585523],\n",
       "       [-1.21435929, -0.12501414, -1.28951651, -1.13190229],\n",
       "       [ 1.30224056,  0.32279771,  1.15049273,  1.54715639],\n",
       "       [-0.85484503,  0.77060957, -1.23277211, -1.26585523],\n",
       "       [-0.97468312,  0.99451549, -1.17602771, -0.73004349],\n",
       "       [-0.97468312, -2.36407342, -0.09788409, -0.19423175],\n",
       "       [ 1.06256438,  0.09889178,  0.58304872,  0.47553292],\n",
       "       [ 0.58321203,  0.54670364,  0.58304872,  0.60948585],\n",
       "       [-0.01597841, -0.79673193,  0.24258231, -0.19423175],\n",
       "       [-1.45403547,  0.32279771, -1.28951651, -1.26585523],\n",
       "       [-0.49533076,  1.44232735, -1.23277211, -1.26585523],\n",
       "       [ 0.58321203, -0.79673193,  0.69653752,  0.87739172],\n",
       "       [-0.25565459, -1.24454378,  0.12909351, -0.06027882],\n",
       "       [-0.37549268, -1.02063785,  0.41281552,  0.07367411],\n",
       "       [ 1.42207865,  0.32279771,  0.58304872,  0.34157998],\n",
       "       [-0.49533076,  1.8901392 , -1.11928331, -0.99794936],\n",
       "       [ 1.30224056,  0.09889178,  0.69653752,  0.47553292],\n",
       "       [-0.61516885,  1.44232735, -1.23277211, -1.26585523],\n",
       "       [-0.85484503,  1.66623328, -1.17602771, -1.26585523],\n",
       "       [ 1.06256438,  0.09889178,  1.09374833,  1.68110933],\n",
       "       [ 0.94272629, -0.12501414,  0.41281552,  0.34157998],\n",
       "       [ 1.06256438,  0.54670364,  1.15049273,  1.27925052]])"
      ]
     },
     "execution_count": 7,
     "metadata": {},
     "output_type": "execute_result"
    }
   ],
   "source": [
    "from sklearn.model_selection import train_test_split\n",
    "X_train, X_test, y_train, y_test = train_test_split(X, y, test_size=0.20)\n",
    "from sklearn.preprocessing import StandardScaler\n",
    "scaler = StandardScaler()\n",
    "scaler.fit(X_train)\n",
    "X_train = scaler.transform(X_train)\n",
    "X_test = scaler.transform(X_test)\n",
    "X_train"
   ]
  },
  {
   "cell_type": "code",
   "execution_count": 8,
   "id": "65d6fe06",
   "metadata": {},
   "outputs": [
    {
     "data": {
      "text/plain": [
       "array([[ 0.70305012, -0.34892007,  0.35607112,  0.20762705],\n",
       "       [-0.85484503,  1.66623328, -1.23277211, -1.13190229],\n",
       "       [-0.85484503,  0.99451549, -1.28951651, -1.13190229],\n",
       "       [-0.85484503,  0.99451549, -1.28951651, -1.26585523],\n",
       "       [ 0.82288821, -0.572826  ,  0.52630432,  0.47553292],\n",
       "       [ 1.30224056,  0.09889178,  0.98025953,  1.27925052],\n",
       "       [-0.97468312,  0.77060957, -1.23277211, -1.26585523],\n",
       "       [ 0.82288821, -0.12501414,  1.03700393,  0.87739172],\n",
       "       [ 1.66175482,  0.32279771,  1.32072594,  0.87739172],\n",
       "       [-0.85484503,  0.54670364, -1.11928331, -0.86399643],\n",
       "       [-0.1358165 , -0.12501414,  0.29932672,  0.07367411],\n",
       "       [ 1.06256438,  0.54670364,  1.15049273,  1.81506226],\n",
       "       [-1.21435929,  0.09889178, -1.17602771, -1.26585523],\n",
       "       [ 0.34353585, -1.02063785,  1.09374833,  0.34157998],\n",
       "       [ 2.26094527, -0.12501414,  1.37747034,  1.54715639],\n",
       "       [-0.25565459, -0.572826  ,  0.69653752,  1.14529759],\n",
       "       [ 1.30224056,  0.09889178,  0.81002633,  1.54715639],\n",
       "       [-0.97468312,  0.99451549, -1.34626092, -1.13190229],\n",
       "       [ 0.22369776,  0.77060957,  0.46955992,  0.60948585],\n",
       "       [-0.01597841, -0.79673193,  0.12909351,  0.07367411],\n",
       "       [ 0.58321203,  0.77060957,  1.09374833,  1.68110933],\n",
       "       [-1.09452121, -1.24454378,  0.46955992,  0.74343879],\n",
       "       [-0.37549268, -1.69235564,  0.18583791,  0.20762705],\n",
       "       [-0.49533076,  0.77060957, -1.23277211, -0.99794936],\n",
       "       [ 0.46337394, -0.572826  ,  0.63979312,  0.87739172],\n",
       "       [ 1.06256438, -1.24454378,  1.20723713,  0.87739172],\n",
       "       [-0.01597841, -0.572826  ,  0.81002633,  1.68110933],\n",
       "       [ 0.58321203,  0.54670364,  1.32072594,  1.81506226],\n",
       "       [ 1.54191674, -0.12501414,  1.26398153,  1.27925052],\n",
       "       [-0.37549268, -1.46844971,  0.01560471, -0.19423175]])"
      ]
     },
     "execution_count": 8,
     "metadata": {},
     "output_type": "execute_result"
    }
   ],
   "source": [
    "X_test"
   ]
  },
  {
   "cell_type": "code",
   "execution_count": 9,
   "id": "158a9d9f",
   "metadata": {},
   "outputs": [
    {
     "data": {
      "text/plain": [
       "array(['Iris-versicolor', 'Iris-setosa', 'Iris-setosa', 'Iris-setosa',\n",
       "       'Iris-versicolor', 'Iris-virginica', 'Iris-setosa',\n",
       "       'Iris-virginica', 'Iris-virginica', 'Iris-setosa',\n",
       "       'Iris-versicolor', 'Iris-virginica', 'Iris-setosa',\n",
       "       'Iris-versicolor', 'Iris-virginica', 'Iris-virginica',\n",
       "       'Iris-virginica', 'Iris-setosa', 'Iris-versicolor',\n",
       "       'Iris-versicolor', 'Iris-virginica', 'Iris-versicolor',\n",
       "       'Iris-versicolor', 'Iris-setosa', 'Iris-virginica',\n",
       "       'Iris-virginica', 'Iris-virginica', 'Iris-virginica',\n",
       "       'Iris-virginica', 'Iris-versicolor'], dtype=object)"
      ]
     },
     "execution_count": 9,
     "metadata": {},
     "output_type": "execute_result"
    }
   ],
   "source": [
    "from sklearn.neighbors import KNeighborsClassifier\n",
    "classifier = KNeighborsClassifier(n_neighbors=5)\n",
    "classifier.fit(X_train, y_train)\n",
    "y_pred = classifier.predict(X_test)\n",
    "y_pred"
   ]
  },
  {
   "cell_type": "code",
   "execution_count": 13,
   "id": "22ff97f4",
   "metadata": {},
   "outputs": [
    {
     "name": "stdout",
     "output_type": "stream",
     "text": [
      "Confusion Matrix:\n",
      " [[ 8  0  0]\n",
      " [ 0  7  0]\n",
      " [ 0  2 13]]\n",
      "                 precision    recall  f1-score   support\n",
      "\n",
      "    Iris-setosa       1.00      1.00      1.00         8\n",
      "Iris-versicolor       0.78      1.00      0.88         7\n",
      " Iris-virginica       1.00      0.87      0.93        15\n",
      "\n",
      "       accuracy                           0.93        30\n",
      "      macro avg       0.93      0.96      0.93        30\n",
      "   weighted avg       0.95      0.93      0.94        30\n",
      "\n"
     ]
    }
   ],
   "source": [
    "from sklearn.metrics import classification_report, confusion_matrix\n",
    "print(\"Confusion Matrix:\\n\",confusion_matrix(y_test, y_pred))\n",
    "print(classification_report(y_test, y_pred))"
   ]
  },
  {
   "cell_type": "code",
   "execution_count": 15,
   "id": "e00fc5f8",
   "metadata": {},
   "outputs": [
    {
     "data": {
      "text/plain": [
       "Text(0, 0.5, 'Mean Error')"
      ]
     },
     "execution_count": 15,
     "metadata": {},
     "output_type": "execute_result"
    },
    {
     "data": {
      "image/png": "[encoded data removed]",
      "text/plain": [
       "<Figure size 1200x600 with 1 Axes>"
      ]
     },
     "metadata": {},
     "output_type": "display_data"
    }
   ],
   "source": [
    "error = []\n",
    "for i in range(1, 40):\n",
    "    knn = KNeighborsClassifier(n_neighbors=i)\n",
    "    knn.fit(X_train, y_train)\n",
    "    pred_i = knn.predict(X_test)\n",
    "    error.append(np.mean(pred_i != y_test))\n",
    "\n",
    "plt.figure(figsize=(12, 6))\n",
    "plt.plot(range(1, 40), error, color='red', linestyle='dashed', marker='o',\n",
    "         markerfacecolor='blue', markersize=10)\n",
    "plt.title('Error Rate K Value')\n",
    "plt.xlabel('K Value')\n",
    "plt.ylabel('Mean Error')"
   ]
  }
 ],
 "metadata": {
  "kernelspec": {
   "display_name": "Python 3 (ipykernel)",
   "language": "python",
   "name": "python3"
  },
  "language_info": {
   "codemirror_mode": {
    "name": "ipython",
    "version": 3
   },
   "file_extension": ".py",
   "mimetype": "text/x-python",
   "name": "python",
   "nbconvert_exporter": "python",
   "pygments_lexer": "ipython3",
   "version": "3.11.4"
  }
 },
 "nbformat": 4,
 "nbformat_minor": 5
}
