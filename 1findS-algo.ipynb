{
 "cells": [
  {
   "cell_type": "code",
   "execution_count": 1,
   "id": "69a9e6e6",
   "metadata": {},
   "outputs": [],
   "source": [
    "#Implement and demonstrate the FIND-S algorithm for finding the most specific hypothesis based on a given set of training data samples. Read the training data from a .CSV file.\n",
    "import random\n",
    "import csv\n",
    "attributes = [['Sunny','Rainy'],\n",
    "              ['Warm','Cold'],\n",
    "              ['Normal','High'],\n",
    "              ['Strong','Weak'],\n",
    "              ['Warm','Cool'],\n",
    "              ['Same','Change']]\n",
    "num_attributes = len(attributes)"
   ]
  },
  {
   "cell_type": "code",
   "execution_count": 5,
   "id": "7cde9c69",
   "metadata": {},
   "outputs": [
    {
     "name": "stdout",
     "output_type": "stream",
     "text": [
      "The most general hypothesis : ['?','?','?','?','?','?']\n",
      "\n",
      "The most specific hypothesis : ['0','0','0','0','0','0']\n"
     ]
    }
   ],
   "source": [
    "print (\"The most general hypothesis : ['?','?','?','?','?','?']\")\n",
    "print (\"\\nThe most specific hypothesis : ['0','0','0','0','0','0']\")"
   ]
  },
  {
   "cell_type": "code",
   "execution_count": 8,
   "id": "59236727",
   "metadata": {},
   "outputs": [
    {
     "name": "stdout",
     "output_type": "stream",
     "text": [
      "The Given Training Data Set\n",
      "\n",
      "['Sunny', 'Warm', 'Normal', 'Strong', 'Warm', 'Same', 'Yes']\n",
      "['Sunny', 'Warm', 'High', 'Strong', 'Warm', 'Same', 'Yes']\n",
      "['Rainy', 'Cold', 'High', 'Strong', 'Warm', 'Change', 'No']\n",
      "['Sunny', 'Warm', 'High', 'Strong', 'Cool', 'Change', 'Yes']\n"
     ]
    }
   ],
   "source": [
    "a = []\n",
    "print(\"The Given Training Data Set\\n\")\n",
    "with open(\"F:\\\\Practicals\\\\ML\\\\data.csv\") as csvFile:\n",
    "    reader = csv.reader(csvFile)\n",
    "    for row in reader:\n",
    "        a.append (row)\n",
    "        print(row)"
   ]
  },
  {
   "cell_type": "code",
   "execution_count": 9,
   "id": "4a7f7757",
   "metadata": {},
   "outputs": [
    {
     "name": "stdout",
     "output_type": "stream",
     "text": [
      "The initial value of hypothesis: \n",
      "['0', '0', '0', '0', '0', '0']\n"
     ]
    }
   ],
   "source": [
    "print(\"The initial value of hypothesis: \")\n",
    "hypothesis = ['0'] * num_attributes\n",
    "print(hypothesis)"
   ]
  },
  {
   "cell_type": "code",
   "execution_count": 11,
   "id": "11641fb4",
   "metadata": {},
   "outputs": [
    {
     "name": "stdout",
     "output_type": "stream",
     "text": [
      "Find S: Finding a Maximally Specific Hypothesis\n"
     ]
    }
   ],
   "source": [
    "for j in range(0,num_attributes):\n",
    "        hypothesis[j] = a[0][j];\n",
    "print(\"Find S: Finding a Maximally Specific Hypothesis\")"
   ]
  },
  {
   "cell_type": "code",
   "execution_count": 12,
   "id": "bc84bde4",
   "metadata": {},
   "outputs": [
    {
     "name": "stdout",
     "output_type": "stream",
     "text": [
      " For Training Example No :0 the hypothesis is  ['Sunny', 'Warm', 'Normal', 'Strong', 'Warm', 'Same']\n",
      " For Training Example No :1 the hypothesis is  ['Sunny', 'Warm', '?', 'Strong', 'Warm', 'Same']\n",
      " For Training Example No :2 the hypothesis is  ['Sunny', 'Warm', '?', 'Strong', 'Warm', 'Same']\n",
      " For Training Example No :3 the hypothesis is  ['Sunny', 'Warm', '?', 'Strong', '?', '?']\n"
     ]
    }
   ],
   "source": [
    "for i in range(0,len(a)):\n",
    "    if a[i][num_attributes]=='Yes':\n",
    "        for j in range(0,num_attributes):\n",
    "            if a[i][j]!=hypothesis[j]:\n",
    "                hypothesis[j]='?'\n",
    "            else:\n",
    "                hypothesis[j]= a[i][j] \n",
    "    print(\" For Training Example No :{0} the hypothesis is \".format(i),hypothesis)"
   ]
  },
  {
   "cell_type": "code",
   "execution_count": 14,
   "id": "9ff6a0df",
   "metadata": {},
   "outputs": [
    {
     "name": "stdout",
     "output_type": "stream",
     "text": [
      "The Maximally Specific Hypothesis for a given Training Examples :\n",
      "['Sunny', 'Warm', '?', 'Strong', '?', '?']\n"
     ]
    }
   ],
   "source": [
    "print(\"The Maximally Specific Hypothesis for a given Training Examples :\")\n",
    "print(hypothesis)"
   ]
  },
  {
   "cell_type": "code",
   "execution_count": null,
   "id": "2240f2e5",
   "metadata": {},
   "outputs": [],
   "source": []
  }
 ],
 "metadata": {
  "kernelspec": {
   "display_name": "Python 3 (ipykernel)",
   "language": "python",
   "name": "python3"
  },
  "language_info": {
   "codemirror_mode": {
    "name": "ipython",
    "version": 3
   },
   "file_extension": ".py",
   "mimetype": "text/x-python",
   "name": "python",
   "nbconvert_exporter": "python",
   "pygments_lexer": "ipython3",
   "version": "3.11.4"
  }
 },
 "nbformat": 4,
 "nbformat_minor": 5
}
